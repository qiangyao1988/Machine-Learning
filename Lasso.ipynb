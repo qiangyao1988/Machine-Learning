{
 "cells": [
  {
   "cell_type": "code",
   "execution_count": 11,
   "metadata": {},
   "outputs": [],
   "source": [
    "import numpy as np\n",
    "import matplotlib.pyplot as plt\n",
    "import itertools\n",
    "from scipy import sparse"
   ]
  },
  {
   "cell_type": "code",
   "execution_count": 12,
   "metadata": {},
   "outputs": [],
   "source": [
    "# initialize the parameters \n",
    "n = 500   # number of samples \n",
    "d = 1000  # number of dimensions\n",
    "k = 100   # number of useful features"
   ]
  },
  {
   "cell_type": "code",
   "execution_count": 13,
   "metadata": {},
   "outputs": [],
   "source": [
    "# generate X\n",
    "X = np.random.standard_normal(size=(n,d))\n",
    "# print(X.shape)"
   ]
  },
  {
   "cell_type": "code",
   "execution_count": 14,
   "metadata": {},
   "outputs": [],
   "source": [
    "# initialize weights and bias\n",
    "w = np.zeros(d)\n",
    "b = 0\n",
    "for j in range(k):\n",
    "    w[j] = j/k\n",
    "# print(w.shape)"
   ]
  },
  {
   "cell_type": "code",
   "execution_count": 15,
   "metadata": {},
   "outputs": [],
   "source": [
    "# generate error\n",
    "e = np.random.normal(0, 1, n)\n",
    "# print(e.shape)"
   ]
  },
  {
   "cell_type": "code",
   "execution_count": 16,
   "metadata": {},
   "outputs": [],
   "source": [
    "# generate y\n",
    "y = np.dot(X,w)+ b + e\n",
    "# print(y.shape)"
   ]
  },
  {
   "cell_type": "code",
   "execution_count": 19,
   "metadata": {
    "collapsed": true
   },
   "outputs": [
    {
     "name": "stdout",
     "output_type": "stream",
     "text": [
      "72.64575408390897\n"
     ]
    }
   ],
   "source": [
    "# calculate the max lambd\n",
    "lambd = []\n",
    "for k in range(d):\n",
    "    for i in range(n):\n",
    "        l= 2*np.sum(X[i][k]*(y[i] - (1/n) * np.sum(y[i])))\n",
    "    lambd.append(l)\n",
    "lambd_max = np.max(lambd)\n",
    "# print(lambd_max)"
   ]
  },
  {
   "cell_type": "code",
   "execution_count": 20,
   "metadata": {},
   "outputs": [],
   "source": [
    "# Calculate the sum of squared error\n",
    "rss = lambda X, y, w: np.dot((y - np.dot(X,w)).T,(y - np.dot(X,w)))"
   ]
  },
  {
   "cell_type": "code",
   "execution_count": 21,
   "metadata": {},
   "outputs": [],
   "source": [
    "def lasso_regression(X, y, b, w, lambd, K,threshold=0.1):\n",
    "    ''' \n",
    "    Using coordinate descent method to get \n",
    "    the Lasso regression coefficient\n",
    "    '''\n",
    "    m, n = X.shape \n",
    "    r = rss(X, y, w)\n",
    "    # w = np.ones(n)\n",
    "    lambdavalues = []\n",
    "    lossvalues = []\n",
    "    nonzeroes = []\n",
    "    precisionVal = []\n",
    "    recallVal = []\n",
    "    w_list = []\n",
    "    \n",
    "    # Using coordinate descent method to optimize the regression coefficient\n",
    "    # niter = itertools.count(1)\n",
    "    for it in range(10):        \n",
    "        \n",
    "        #STEP 1: Update b\n",
    "        b = 0\n",
    "        for i in range(m):\n",
    "            b += y[i] - np.sum(np.dot(w,X[i,:]))\n",
    "        b = b/m\n",
    "        # print(b)\n",
    " \n",
    "        for k in range(n):\n",
    "            \n",
    "            #STEP 2: calculate ak    \n",
    "            ak = 2 * (np.sum(X**2, axis = 0)) \n",
    "\n",
    "            #STEP 3: Calculate ck\n",
    "            ck = 0\n",
    "            for i in range(m):\n",
    "                ck += X[i, k]*(y[i] - (b + sum((np.dot(w[j],X[i,j])for j in range(n) if j != k))))\n",
    "            ck = 2*ck\n",
    "            \n",
    "            #STEP 4: Update w[k]\n",
    "            if ck < -lambd:\n",
    "                wk = (ck + lambd)/ak[k]\n",
    "            elif ck > lambd:\n",
    "                wk = (ck - lambd)/ak[k]\n",
    "            else :\n",
    "                wk = 0\n",
    "\n",
    "            # get new regression coefficient\n",
    "            w[k] = wk\n",
    "        w_list.append(w)\n",
    "        r_prime = rss(X, y, w)\n",
    "        #print(\"max of w:\",np.max(w))\n",
    "        #print(\"min of w:\",np.min(w))\n",
    "        #Loss\n",
    "        er = np.dot(X,w) + b - y\n",
    "        square_er = np.square(er)\n",
    "        sum_er = np.sum(square_er)\n",
    "        #print(\"sum_error:\",sum_er)\n",
    "        loss = sum_er + lambd * (np.sum(np.absolute(w)))\n",
    "        print(\"Loss: \",loss)\n",
    "        \n",
    "        #lambd values for graph\n",
    "        lambdavalues.append(lambd)\n",
    "        # print(\"lambd:\",lambd)\n",
    "        lambd = lambd/1.5\n",
    "        #nonzeroes weights\n",
    "        #print(np.count_nonzero(w))\n",
    "        #print(np.count_nonzero(w[:K]))\n",
    "        nonzeroes.append(np.count_nonzero(w))\n",
    "        #print(float(np.count_nonzero(w)))\n",
    "        \n",
    "        #precision\n",
    "        precision = np.count_nonzero(w[:K])*1./float(np.count_nonzero(w))\n",
    "        #print(\"precision:\",precision)\n",
    "        if np.count_nonzero(w) != 0:\n",
    "            precisionVal.append(precision)\n",
    "        else:\n",
    "            precisionVal.append(1)\n",
    "        \n",
    "        #recall\n",
    "        recall = np.count_nonzero(w[:K])/float(K)\n",
    "        #print(\"recall:\",recall)\n",
    "        recallVal.append(recall)       \n",
    "        \n",
    "        #set a stopping condition\n",
    "        r_prime = rss(X, y, w)\n",
    "        delta = abs(r_prime - r)\n",
    "        r = r_prime\n",
    "        if delta < threshold:\n",
    "            break\n",
    "    return lambdavalues, lossvalues, nonzeroes, w, b, precisionVal, recallVal,w_list"
   ]
  },
  {
   "cell_type": "code",
   "execution_count": 22,
   "metadata": {},
   "outputs": [
    {
     "name": "stdout",
     "output_type": "stream",
     "text": [
      "Loss:  3743.736186706789\n",
      "Loss:  2610.3150499123467\n",
      "Loss:  1823.4906075205827\n",
      "Loss:  1267.60613396889\n",
      "Loss:  875.4362829510036\n",
      "Loss:  600.8741004450793\n",
      "Loss:  410.1543174978339\n",
      "Loss:  278.5912205233493\n",
      "Loss:  188.37655836009682\n",
      "Loss:  126.87353943132452\n"
     ]
    }
   ],
   "source": [
    "lambdavalues, lossvalues, nonzeroes, W_f, b_f, precisionVal, recallVal,w_list = lasso_regression(X, y, b, w, lambd_max, k, threshold=0.1)"
   ]
  },
  {
   "cell_type": "code",
   "execution_count": 23,
   "metadata": {},
   "outputs": [],
   "source": [
    "# calculate precision and recall \n",
    "Sparsity_Pattern = np.count_nonzero(W_f)\n",
    "precision = np.count_nonzero(W_f[:k])*1./float(np.count_nonzero(W_f))\n",
    "recall = np.count_nonzero(W_f[:k])/float(k)"
   ]
  },
  {
   "cell_type": "code",
   "execution_count": 24,
   "metadata": {},
   "outputs": [
    {
     "data": {
      "image/png": "[encoded data removed]",
      "text/plain": [
       "<Figure size 432x288 with 1 Axes>"
      ]
     },
     "metadata": {
      "needs_background": "light"
     },
     "output_type": "display_data"
    }
   ],
   "source": [
    "# plot precision and recall  \n",
    "plt.plot(lambdavalues, precisionVal, label=\"precision\")\n",
    "plt.plot(lambdavalues, recallVal, label=\"recall\")\n",
    "plt.xlabel(\"lambda\")\n",
    "plt.ylabel(\"Precision and Recall\")\n",
    "plt.legend()\n",
    "axis = plt.gca()\n",
    "axis.set_xlim(axis.get_xlim()[::-1])\n",
    "\n",
    "plt.show()"
   ]
  },
  {
   "cell_type": "code",
   "execution_count": 25,
   "metadata": {},
   "outputs": [
    {
     "data": {
      "image/png": "[encoded data removed]",
      "text/plain": [
       "<Figure size 432x288 with 1 Axes>"
      ]
     },
     "metadata": {
      "needs_background": "light"
     },
     "output_type": "display_data"
    }
   ],
   "source": [
    "# plot FDR and TPR  \n",
    "plt.plot(precisionVal, recallVal)\n",
    "plt.xlabel(\"FDR\")\n",
    "plt.ylabel(\"TPR\")\n",
    "plt.show()\n",
    "# plt.legend()"
   ]
  },
  {
   "cell_type": "code",
   "execution_count": 30,
   "metadata": {
    "scrolled": true
   },
   "outputs": [
    {
     "data": {
      "image/png": "[encoded data removed]",
      "text/plain": [
       "<Figure size 432x288 with 1 Axes>"
      ]
     },
     "metadata": {
      "needs_background": "light"
     },
     "output_type": "display_data"
    }
   ],
   "source": [
    "# plot the relation between number of non-zeros and lambd values\n",
    "plt.plot(lambdavalues, nonzeroes, label=\"number of non-zeros\")\n",
    "plt.xlabel(\"lambda\")\n",
    "plt.ylabel(\"number of non-zeros\")\n",
    "plt.legend()\n",
    "#plt.xscale('log')\n",
    "axis = plt.gca()\n",
    "axis.set_xlim(axis.get_xlim()[::-1])\n",
    "plt.show()"
   ]
  },
  {
   "cell_type": "code",
   "execution_count": 29,
   "metadata": {},
   "outputs": [
    {
     "name": "stdout",
     "output_type": "stream",
     "text": [
      "1000 10\n"
     ]
    }
   ],
   "source": [
    "#Stack into numpy array\n",
    "w_stack = np.stack(w_list).T\n",
    "m,n = w_stack.shape\n",
    "print(m,n)"
   ]
  },
  {
   "cell_type": "code",
   "execution_count": 28,
   "metadata": {},
   "outputs": [
    {
     "data": {
      "text/plain": [
       "Text(0.5, 1.0, 'Lasso Coefficients')"
      ]
     },
     "execution_count": 28,
     "metadata": {},
     "output_type": "execute_result"
    },
    {
     "data": {
      "image/png": "[encoded data removed]",
      "text/plain": [
       "<Figure size 864x576 with 1 Axes>"
      ]
     },
     "metadata": {
      "needs_background": "light"
     },
     "output_type": "display_data"
    }
   ],
   "source": [
    "# plot the coffecients \n",
    "plt.figure(figsize = (12,8))\n",
    "\n",
    "for i in range(n):\n",
    "    plt.plot(lambdavalues, w_stack[i], label = i)\n",
    "plt.xscale('log')\n",
    "plt.xlabel('Log($\\\\lambda$)')\n",
    "plt.ylabel('Coefficients')\n",
    "plt.title('Lasso Coefficients')\n",
    "# plt.legend()\n",
    "# plt.axis('tight')"
   ]
  },
  {
   "cell_type": "code",
   "execution_count": null,
   "metadata": {},
   "outputs": [],
   "source": []
  }
 ],
 "metadata": {
  "kernelspec": {
   "display_name": "Python 3",
   "language": "python",
   "name": "python3"
  },
  "language_info": {
   "codemirror_mode": {
    "name": "ipython",
    "version": 3
   },
   "file_extension": ".py",
   "mimetype": "text/x-python",
   "name": "python",
   "nbconvert_exporter": "python",
   "pygments_lexer": "ipython3",
   "version": "3.6.8"
  }
 },
 "nbformat": 4,
 "nbformat_minor": 2
}
